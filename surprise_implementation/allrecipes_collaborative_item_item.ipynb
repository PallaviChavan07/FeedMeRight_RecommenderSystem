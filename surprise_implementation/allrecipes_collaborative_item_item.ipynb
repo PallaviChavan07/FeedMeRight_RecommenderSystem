{
 "cells": [
  {
   "cell_type": "code",
   "execution_count": 38,
   "metadata": {},
   "outputs": [],
   "source": [
    "## Source - https://blog.dominodatalab.com/recommender-systems-collaborative-filtering/\n",
    "## Source - https://www.kaggle.com/robottums/hybrid-recommender-systems-with-surprise\n",
    "\n",
    "## Collaborative filtering based on item item similarity\n",
    "from surprise import Dataset\n",
    "from surprise.model_selection import cross_validate\n",
    "from surprise import KNNBasic\n",
    "import pandas as pd\n",
    "import numpy as np\n",
    "from surprise import Reader\n",
    "from surprise import Dataset\n",
    "from surprise import accuracy\n",
    "from surprise.model_selection import train_test_split\n",
    "from surprise.model_selection import split\n",
    "from collections import defaultdict\n",
    "\n"
   ]
  },
  {
   "cell_type": "code",
   "execution_count": 15,
   "metadata": {},
   "outputs": [
    {
     "name": "stdout",
     "output_type": "stream",
     "text": [
      "Computing the cosine similarity matrix...\n",
      "Done computing similarity matrix.\n",
      "RMSE: 0.8711\n",
      "Computing the cosine similarity matrix...\n",
      "Done computing similarity matrix.\n",
      "RMSE: 0.8777\n",
      "Computing the cosine similarity matrix...\n",
      "Done computing similarity matrix.\n",
      "RMSE: 0.8695\n",
      "Computing the cosine similarity matrix...\n",
      "Done computing similarity matrix.\n",
      "RMSE: 0.8709\n",
      "Computing the cosine similarity matrix...\n",
      "Done computing similarity matrix.\n",
      "RMSE: 0.8697\n",
      "Computing the cosine similarity matrix...\n",
      "Done computing similarity matrix.\n",
      "RMSE: 0.8668\n",
      "Computing the cosine similarity matrix...\n",
      "Done computing similarity matrix.\n",
      "RMSE: 0.8720\n",
      "Computing the cosine similarity matrix...\n",
      "Done computing similarity matrix.\n",
      "RMSE: 0.8674\n",
      "Computing the cosine similarity matrix...\n",
      "Done computing similarity matrix.\n",
      "RMSE: 0.8692\n",
      "Computing the cosine similarity matrix...\n",
      "Done computing similarity matrix.\n",
      "RMSE: 0.8708\n",
      "[0.8710763386675976, 0.8776706065707403, 0.869476538659637, 0.8709108776483816, 0.869660825119853, 0.8668479099525035, 0.8719706800707336, 0.8674073614227823, 0.8691741958631835, 0.870824780139957]\n"
     ]
    }
   ],
   "source": [
    "recipe_df = pd.read_csv('C:/Users/jpall/Anaconda3/envs/conda_venv/conda-meta/data/recipe/export_rated_recipes_set.csv')\n",
    "train_rating_df = pd.read_csv('C:/Users/jpall/Anaconda3/envs/conda_venv/conda-meta/data/recipe/core-data-train_rating.csv')\n",
    "test_rating_df = pd.read_csv('C:/Users/jpall/Anaconda3/envs/conda_venv/conda-meta/data/recipe/core-data-test_rating.csv')\n",
    "\n",
    "df = pd.merge(recipe_df, train_rating_df, on='recipe_id', how='inner')\n",
    "reader = Reader(rating_scale=(1, 5))\n",
    "data = Dataset.load_from_df(df[['user_id', 'recipe_id', 'rating']], reader)\n",
    "trainSet, testSet = train_test_split(data, test_size=.25, random_state=0)\n",
    "\n",
    "# data = surprise.Dataset.load_from_df(rawTrain,reader)\n",
    "# holdout = surprise.Dataset.load_from_df(rawholdout,reader)\n",
    "\n",
    " # split data into folds.\n",
    "kSplit = split.KFold(n_splits=10, shuffle=True) \n",
    "\n",
    "# compute  similarities between items\n",
    "sim_options = sim_options = {'name': 'cosine',\n",
    "               'user_based': False  \n",
    "               }\n",
    "\n",
    "\n",
    "collabKNN  = KNNBasic(k=40,sim_options=sim_options)                                                       \n",
    "rmseKNN = []\n",
    "rmseSVD = []\n",
    "rmseCo = []\n",
    "rmseSlope = []\n",
    "\n",
    "\n",
    "for trainset, testset in kSplit.split(data): #iterate through the folds.\n",
    "    collabKNN.fit(trainset)\n",
    "    predictionsKNN = collabKNN.test(testset)\n",
    "    rmseKNN.append(accuracy.rmse(predictionsKNN,verbose=True))#get root means squared error\n",
    "print(rmseKNN) \n",
    "\n",
    "\n",
    "# for trainset, testset in data.folds(): \n",
    "#     algo.fit(trainset)                             \n",
    "#     predictions = algo.test(testset)\n",
    "#     rmse(predictions)\n",
    "\n",
    "\n",
    "# trainingSet = data.build_full_trainset()\n",
    "# sim_options = {\n",
    "#     'name': 'cosine',\n",
    "#     'user_based': False\n",
    "# }\n",
    " \n",
    "# knn = KNNBasic(sim_options=sim_options)"
   ]
  },
  {
   "cell_type": "code",
   "execution_count": 34,
   "metadata": {},
   "outputs": [],
   "source": [
    "#helper method to get only top 5 recipe recommendation for each user.\n",
    "\n",
    "from collections import defaultdict\n",
    " \n",
    "def get_top5_recommendations(predictions, topN = 5):\n",
    "     \n",
    "    top_recs = defaultdict(list)\n",
    "    for uid, iid, true_r, est, _ in predictions:\n",
    "        top_recs[uid].append((iid, est))\n",
    "     \n",
    "    for uid, user_ratings in top_recs.items():\n",
    "        user_ratings.sort(key = lambda x: x[1], reverse = True)\n",
    "        top_recs[uid] = user_ratings[:topN]\n",
    "     \n",
    "    return top_recs"
   ]
  },
  {
   "cell_type": "code",
   "execution_count": 35,
   "metadata": {},
   "outputs": [
    {
     "name": "stdout",
     "output_type": "stream",
     "text": [
      "16 [7375]\n"
     ]
    }
   ],
   "source": [
    "# helper method to create a dictionary that maps each recipe is to it's name\n",
    "top_5 = get_top5_recommendations(predictionsKNN)\n",
    "\n",
    "# Print the recommended items for each user\n",
    "for uid, user_ratings in top_5.items():\n",
    "    if(uid == 16):\n",
    "        print(uid, [iid for (iid, _) in user_ratings])\n"
   ]
  },
  {
   "cell_type": "code",
   "execution_count": 39,
   "metadata": {
    "scrolled": true
   },
   "outputs": [
    {
     "name": "stdout",
     "output_type": "stream",
     "text": [
      "unique_recipe_ids =  29093\n",
      "recipe_ids_ratedby_user =  229\n",
      "recipeids_to_pred =  28864\n"
     ]
    }
   ],
   "source": [
    "## Different way to get recommendation for single user\n",
    "## Source - https://blog.cambridgespark.com/tutorial-practical-introduction-to-recommender-systems-dbe22848392b\n",
    "## Don't want to recommend same recipes that they already have tried\n",
    "\n",
    "# Get a list of all recipe ids\n",
    "unique_recipe_ids = df['recipe_id'].unique()\n",
    "# Get a list of all recipe ids that has beenn rated by user 39\n",
    "recipe_ids_ratedby_user = df.loc[df['user_id'] == 39, 'recipe_id']\n",
    "# remove the recipe_ids that user -- (here 39) has rated from the list of all recipe ids.\n",
    "recipeids_to_pred = np.setdiff1d(unique_recipe_ids, recipe_ids_ratedby_user)\n",
    "print(\"unique_recipe_ids = \", len(unique_recipe_ids))\n",
    "print(\"recipe_ids_ratedby_user = \", len(recipe_ids_ratedby_user))\n",
    "print(\"recipeids_to_pred = \",len(recipeids_to_pred ))"
   ]
  },
  {
   "cell_type": "code",
   "execution_count": 42,
   "metadata": {},
   "outputs": [
    {
     "data": {
      "text/plain": [
       "Prediction(uid=39, iid=6663, r_ui=1.0, est=4.675, details={'actual_k': 40, 'was_impossible': False})"
      ]
     },
     "execution_count": 42,
     "metadata": {},
     "output_type": "execute_result"
    }
   ],
   "source": [
    "testset = [[39, iid, 1.] for iid in recipeids_to_pred]\n",
    "predictions = collabKNN.test(testset)\n",
    "predictions[0]"
   ]
  },
  {
   "cell_type": "code",
   "execution_count": 43,
   "metadata": {
    "scrolled": true
   },
   "outputs": [
    {
     "name": "stdout",
     "output_type": "stream",
     "text": [
      "top recipe for user 39 is with recipe id =  6674  with predicted rating =  5.0\n"
     ]
    }
   ],
   "source": [
    "pred_ratings = np.array([pred.est for pred in predictions])\n",
    "# find the index of the maximum predicted rating \n",
    "i_max = pred_ratings.argmax()\n",
    "# use this to find the corresponding recipeid to recommend\n",
    "recipe_id = recipeids_to_pred[i_max]\n",
    "print(\"top recipe for user 39 is with recipe id = \", recipe_id, \" with predicted rating = \", pred_ratings[i_max])"
   ]
  },
  {
   "cell_type": "code",
   "execution_count": 1,
   "metadata": {
    "scrolled": true
   },
   "outputs": [
    {
     "ename": "SyntaxError",
     "evalue": "invalid syntax (<ipython-input-1-bd8be5e7ef5f>, line 1)",
     "output_type": "error",
     "traceback": [
      "\u001b[1;36m  File \u001b[1;32m\"<ipython-input-1-bd8be5e7ef5f>\"\u001b[1;36m, line \u001b[1;32m1\u001b[0m\n\u001b[1;33m    ipython nbconvert — to script abc.ipynb\u001b[0m\n\u001b[1;37m                    ^\u001b[0m\n\u001b[1;31mSyntaxError\u001b[0m\u001b[1;31m:\u001b[0m invalid syntax\n"
     ]
    }
   ],
   "source": []
  }
 ],
 "metadata": {
  "kernelspec": {
   "display_name": "Python 3",
   "language": "python",
   "name": "python3"
  },
  "language_info": {
   "codemirror_mode": {
    "name": "ipython",
    "version": 3
   },
   "file_extension": ".py",
   "mimetype": "text/x-python",
   "name": "python",
   "nbconvert_exporter": "python",
   "pygments_lexer": "ipython3",
   "version": "3.7.7"
  }
 },
 "nbformat": 4,
 "nbformat_minor": 4
}
